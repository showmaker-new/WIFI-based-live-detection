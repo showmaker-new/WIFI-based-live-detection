{
 "cells": [
  {
   "cell_type": "code",
   "execution_count": 1,
   "metadata": {},
   "outputs": [],
   "source": [
    "import cv2\n",
    "import numpy as np\n",
    "\n",
    "import time\n",
    "import sys\n",
    "import os"
   ]
  },
  {
   "cell_type": "markdown",
   "metadata": {},
   "source": [
    "## Setup YOLO detection system"
   ]
  },
  {
   "cell_type": "code",
   "execution_count": 2,
   "metadata": {},
   "outputs": [],
   "source": [
    "CONFIDENCE = 0.5\n",
    "SCORE_THRESHOLD = 0.5\n",
    "IOU_THRESHOLD = 0.5\n",
    "\n",
    "# the neural network configuration\n",
    "config_path = \"../yolo_data/yolov3.cfg\"\n",
    "\n",
    "# the YOLO net weights file\n",
    "weights_path = \"../yolo_data/yolov3.weights\"\n",
    "\n",
    "# loading all the class labels (objects)\n",
    "labels = open(\"../yolo_data/coco.names\").read().strip().split(\"\\n\")\n",
    "\n",
    "# generating colors for each object for later plotting\n",
    "colors = np.random.randint(0, 255, size=(len(labels), 3), dtype=\"uint8\")"
   ]
  },
  {
   "cell_type": "code",
   "execution_count": 3,
   "metadata": {},
   "outputs": [],
   "source": [
    "# load the YOLO network\n",
    "net = cv2.dnn.readNetFromDarknet(config_path, weights_path)"
   ]
  },
  {
   "cell_type": "code",
   "execution_count": 4,
   "metadata": {},
   "outputs": [],
   "source": [
    "path_name = \"../dataset/bedroom_lviv/1/images/opencv_frame_630.png\"\n",
    "\n",
    "image = cv2.imread(path_name)\n",
    "file_name = os.path.basename(path_name)\n",
    "filename, ext = file_name.split(\".\")"
   ]
  },
  {
   "cell_type": "code",
   "execution_count": 5,
   "metadata": {},
   "outputs": [],
   "source": [
    "# cv2.imshow(image)"
   ]
  },
  {
   "cell_type": "code",
   "execution_count": 6,
   "metadata": {},
   "outputs": [
    {
     "name": "stdout",
     "output_type": "stream",
     "text": [
      "image.shape: (480, 640, 3)\n",
      "blob.shape: (1, 3, 416, 416)\n"
     ]
    }
   ],
   "source": [
    "h, w = image.shape[:2]\n",
    "\n",
    "# create 4D blob\n",
    "blob = cv2.dnn.blobFromImage(image, 1/255.0, (416, 416), swapRB=True, crop=False)\n",
    "\n",
    "print(\"image.shape:\", image.shape)\n",
    "print(\"blob.shape:\", blob.shape)\n",
    "\n",
    "# image.shape: (1200, 1800, 3)\n",
    "# blob.shape: (1, 3, 416, 416)"
   ]
  },
  {
   "cell_type": "markdown",
   "metadata": {},
   "source": [
    "## Making predictions"
   ]
  },
  {
   "cell_type": "code",
   "execution_count": 7,
   "metadata": {},
   "outputs": [
    {
     "name": "stdout",
     "output_type": "stream",
     "text": [
      "Time took: 0.85s\n"
     ]
    }
   ],
   "source": [
    "# sets the blob as the input of the network\n",
    "net.setInput(blob)\n",
    "\n",
    "# get all the layer names\n",
    "ln = net.getLayerNames()\n",
    "ln = [ln[i[0] - 1] for i in net.getUnconnectedOutLayers()]\n",
    "\n",
    "# feed forward (inference) and get the network output\n",
    "# measure how much it took in seconds\n",
    "start = time.perf_counter()\n",
    "layer_outputs = net.forward(ln)\n",
    "\n",
    "time_took = time.perf_counter() - start\n",
    "\n",
    "print(f\"Time took: {time_took:.2f}s\")"
   ]
  },
  {
   "cell_type": "code",
   "execution_count": 8,
   "metadata": {},
   "outputs": [],
   "source": [
    "font_scale = 1\n",
    "thickness = 1\n",
    "\n",
    "boxes, confidences, class_ids = [], [], []\n",
    "\n",
    "# loop over each of the layer outputs\n",
    "for output in layer_outputs:\n",
    "\n",
    "    # loop over each of the object detections\n",
    "    for detection in output:\n",
    "        # extract the class id (label) and confidence (as a probability) of\n",
    "        # the current object detection\n",
    "        scores = detection[5:]\n",
    "        class_id = np.argmax(scores)\n",
    "        confidence = scores[class_id]\n",
    "\n",
    "        # discard out weak predictions by ensuring the detected\n",
    "        # probability is greater than the minimum probability\n",
    "        if confidence > CONFIDENCE:\n",
    "            # scale the bounding box coordinates back relative to the\n",
    "            # size of the image, keeping in mind that YOLO actually\n",
    "            # returns the center (x, y)-coordinates of the bounding\n",
    "            # box followed by the boxes' width and height\n",
    "            box = detection[:4] * np.array([w, h, w, h])\n",
    "            (centerX, centerY, width, height) = box.astype(\"int\")\n",
    "        \n",
    "            # use the center (x, y)-coordinates to derive the top and\n",
    "            # and left corner of the bounding box\n",
    "            x = int(centerX - (width / 2))\n",
    "            y = int(centerY - (height / 2))\n",
    "            \n",
    "            # update our list of bounding box coordinates, confidences,\n",
    "            # and class IDs\n",
    "            boxes.append([x, y, int(width), int(height)])\n",
    "            confidences.append(float(confidence))\n",
    "            class_ids.append(class_id)"
   ]
  },
  {
   "cell_type": "code",
   "execution_count": 9,
   "metadata": {},
   "outputs": [
    {
     "name": "stdout",
     "output_type": "stream",
     "text": [
      "(85,)\n"
     ]
    }
   ],
   "source": [
    "print(detection.shape)"
   ]
  },
  {
   "cell_type": "markdown",
   "metadata": {},
   "source": [
    "## Drawing Detected Objects"
   ]
  },
  {
   "cell_type": "code",
   "execution_count": 10,
   "metadata": {},
   "outputs": [],
   "source": [
    "# loop over the indexes we are keeping\n",
    "for i in range(len(boxes)):\n",
    "    # extract the bounding box coordinates\n",
    "    x, y = boxes[i][0], boxes[i][1]\n",
    "    w, h = boxes[i][2], boxes[i][3]\n",
    "    \n",
    "    # draw a bounding box rectangle and label on the image\n",
    "    color = [int(c) for c in colors[class_ids[i]]]\n",
    "    cv2.rectangle(image, (x, y), (x + w, y + h), color=color, thickness=thickness)\n",
    "    text = f\"{labels[class_ids[i]]}: {confidences[i]:.2f}\"\n",
    "    \n",
    "    # calculate text width & height to draw the transparent boxes as background of the text\n",
    "    (text_width, text_height) = cv2.getTextSize(text, cv2.FONT_HERSHEY_SIMPLEX, fontScale=font_scale, thickness=thickness)[0]\n",
    "    text_offset_x = x\n",
    "    text_offset_y = y - 5\n",
    "    box_coords = ((text_offset_x, text_offset_y), (text_offset_x + text_width + 2, text_offset_y - text_height))\n",
    "    overlay = image.copy()\n",
    "    cv2.rectangle(overlay, box_coords[0], box_coords[1], color=color, thickness=cv2.FILLED)\n",
    "    \n",
    "    # add opacity (transparency to the box)\n",
    "    image = cv2.addWeighted(overlay, 0.6, image, 0.4, 0)\n",
    "    \n",
    "    # now put the text (label: confidence %)\n",
    "    cv2.putText(image, text, (x, y - 5), cv2.FONT_HERSHEY_SIMPLEX, \n",
    "                fontScale=font_scale, color=(0, 0, 0), thickness=thickness)"
   ]
  },
  {
   "cell_type": "code",
   "execution_count": 13,
   "metadata": {},
   "outputs": [
    {
     "name": "stdout",
     "output_type": "stream",
     "text": [
      "Boxes:  [[35, 6, 240, 463]]\n",
      "class_ids:  [0]\n"
     ]
    }
   ],
   "source": [
    "print(\"Boxes: \", boxes)\n",
    "print(\"class_ids: \", class_ids)\n",
    "\n"
   ]
  },
  {
   "cell_type": "code",
   "execution_count": 14,
   "metadata": {},
   "outputs": [],
   "source": [
    "# cv2.imwrite(filename + \"_yolo3.\" + ext, image)\n",
    "\n",
    "# cv2.imshow('image', image)\n",
    "# cv2.waitKey(0)"
   ]
  },
  {
   "cell_type": "code",
   "execution_count": null,
   "metadata": {},
   "outputs": [],
   "source": []
  },
  {
   "cell_type": "code",
   "execution_count": null,
   "metadata": {},
   "outputs": [],
   "source": []
  },
  {
   "cell_type": "code",
   "execution_count": 18,
   "metadata": {},
   "outputs": [],
   "source": [
    "def detect_person_box(path_to_the_image):\n",
    "    #############################################################################\n",
    "    # Setup model\n",
    "    #############################################################################\n",
    "    CONFIDENCE = 0.5\n",
    "    SCORE_THRESHOLD = 0.5\n",
    "    IOU_THRESHOLD = 0.5\n",
    "\n",
    "    # the neural network configuration\n",
    "    config_path = \"../yolo_data/yolov3.cfg\"\n",
    "\n",
    "    # the YOLO net weights file\n",
    "    weights_path = \"../yolo_data/yolov3.weights\"\n",
    "\n",
    "    # loading all the class labels (objects)\n",
    "    labels = open(\"../yolo_data/coco.names\").read().strip().split(\"\\n\")\n",
    "\n",
    "    # generating colors for each object for later plotting\n",
    "    colors = np.random.randint(0, 255, size=(len(labels), 3), dtype=\"uint8\")\n",
    "    \n",
    "    # load the YOLO network\n",
    "    net = cv2.dnn.readNetFromDarknet(config_path, weights_path)\n",
    "    \n",
    "    \n",
    "    #############################################################################\n",
    "    # Load image\n",
    "    #############################################################################\n",
    "#     path_name = \"../dataset/bedroom_lviv/1/images/opencv_frame_630.png\"\n",
    "\n",
    "    image = cv2.imread(path_to_the_image)\n",
    "    file_name = os.path.basename(path_name)\n",
    "    filename, ext = file_name.split(\".\")\n",
    "    \n",
    "    h, w = image.shape[:2]\n",
    "\n",
    "    # create 4D blob\n",
    "    blob = cv2.dnn.blobFromImage(image, 1/255.0, (416, 416), swapRB=True, crop=False)\n",
    "\n",
    "#     print(\"image.shape:\", image.shape)\n",
    "#     print(\"blob.shape:\", blob.shape) # should be blob.shape: (1, 3, 416, 416)\n",
    "\n",
    "\n",
    "    #############################################################################\n",
    "    # Making prediction\n",
    "    #############################################################################\n",
    "\n",
    "    # sets the blob as the input of the network\n",
    "    net.setInput(blob)\n",
    "\n",
    "    # get all the layer names\n",
    "    ln = net.getLayerNames()\n",
    "    ln = [ln[i[0] - 1] for i in net.getUnconnectedOutLayers()]\n",
    "\n",
    "    # feed forward (inference) and get the network output\n",
    "    # measure how much it took in seconds\n",
    "    layer_outputs = net.forward(ln)\n",
    "    \n",
    "    font_scale, thickness = 1, 1\n",
    "\n",
    "    boxes, confidences, class_ids = [], [], []\n",
    "\n",
    "    # loop over each of the layer outputs\n",
    "    for output in layer_outputs:\n",
    "\n",
    "        # loop over each of the object detections\n",
    "        for detection in output:\n",
    "            # extract the class id (label) and confidence (as a probability) of\n",
    "            # the current object detection\n",
    "            scores = detection[5:]\n",
    "            class_id = np.argmax(scores)\n",
    "            confidence = scores[class_id]\n",
    "\n",
    "            # discard out weak predictions by ensuring the detected\n",
    "            # probability is greater than the minimum probability\n",
    "            if confidence > CONFIDENCE:\n",
    "                # scale the bounding box coordinates back relative to the\n",
    "                # size of the image, keeping in mind that YOLO actually\n",
    "                # returns the center (x, y)-coordinates of the bounding\n",
    "                # box followed by the boxes' width and height\n",
    "                box = detection[:4] * np.array([w, h, w, h])\n",
    "                (centerX, centerY, width, height) = box.astype(\"int\")\n",
    "\n",
    "                # use the center (x, y)-coordinates to derive the top and\n",
    "                # and left corner of the bounding box\n",
    "                x = int(centerX - (width / 2))\n",
    "                y = int(centerY - (height / 2))\n",
    "\n",
    "                # update our list of bounding box coordinates, confidences,\n",
    "                # and class IDs\n",
    "                boxes.append([x, y, int(width), int(height)])\n",
    "                confidences.append(float(confidence))\n",
    "                class_ids.append(class_id)\n",
    "\n",
    "    print(\"boxes: \", boxes)\n",
    "    print(\"confidences: \", confidences)\n",
    "    print(\"class_ids: \", class_ids) # 0 -> person\n",
    "    \n",
    "    return boxes"
   ]
  },
  {
   "cell_type": "code",
   "execution_count": 19,
   "metadata": {},
   "outputs": [
    {
     "name": "stdout",
     "output_type": "stream",
     "text": [
      "boxes:  [[35, 6, 240, 463]]\n",
      "confidences:  [0.9965195059776306]\n",
      "class_ids:  [0]\n"
     ]
    },
    {
     "data": {
      "text/plain": [
       "[[35, 6, 240, 463]]"
      ]
     },
     "execution_count": 19,
     "metadata": {},
     "output_type": "execute_result"
    }
   ],
   "source": [
    "detect_person_box(\"../dataset/bedroom_lviv/1/images/opencv_frame_630.png\")"
   ]
  }
 ],
 "metadata": {
  "kernelspec": {
   "display_name": "Python 3",
   "language": "python",
   "name": "python3"
  },
  "language_info": {
   "codemirror_mode": {
    "name": "ipython",
    "version": 3
   },
   "file_extension": ".py",
   "mimetype": "text/x-python",
   "name": "python",
   "nbconvert_exporter": "python",
   "pygments_lexer": "ipython3",
   "version": "3.6.9"
  }
 },
 "nbformat": 4,
 "nbformat_minor": 4
}
